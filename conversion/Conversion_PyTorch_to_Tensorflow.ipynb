{
  "nbformat": 4,
  "nbformat_minor": 0,
  "metadata": {
    "colab": {
      "name": "Conversion PyTorch to Tensorflow.ipynb",
      "version": "0.3.2",
      "provenance": [],
      "collapsed_sections": [
        "RgyQKBk7LbtC",
        "9Np0pjXOMCdM"
      ]
    },
    "kernelspec": {
      "name": "python3",
      "display_name": "Python 3"
    }
  },
  "cells": [
    {
      "cell_type": "markdown",
      "metadata": {
        "id": "CyWlmQoKYj8W",
        "colab_type": "text"
      },
      "source": [
        "This is a notebook to test the conversion of :\n",
        "\n",
        "**PyTorch -.pth -->  ONNX -->  TensorflowRep object --> protobuf -.pb**\n"
      ]
    },
    {
      "cell_type": "code",
      "metadata": {
        "id": "P_S1Nwrk4eQz",
        "colab_type": "code",
        "outputId": "dccdc70c-1463-414a-9faf-6f7a40c34b92",
        "colab": {
          "base_uri": "https://localhost:8080/",
          "height": 122
        }
      },
      "source": [
        "# mount google drive\n",
        "from google.colab import drive\n",
        "drive.mount('/content/gdrive')"
      ],
      "execution_count": 8,
      "outputs": [
        {
          "output_type": "stream",
          "text": [
            "Go to this URL in a browser: https://accounts.google.com/o/oauth2/auth?client_id=947318989803-6bn6qk8qdgf4n4g3pfee6491hc0brc4i.apps.googleusercontent.com&redirect_uri=urn%3Aietf%3Awg%3Aoauth%3A2.0%3Aoob&scope=email%20https%3A%2F%2Fwww.googleapis.com%2Fauth%2Fdocs.test%20https%3A%2F%2Fwww.googleapis.com%2Fauth%2Fdrive%20https%3A%2F%2Fwww.googleapis.com%2Fauth%2Fdrive.photos.readonly%20https%3A%2F%2Fwww.googleapis.com%2Fauth%2Fpeopleapi.readonly&response_type=code\n",
            "\n",
            "Enter your authorization code:\n",
            "··········\n",
            "Mounted at /content/gdrive\n"
          ],
          "name": "stdout"
        }
      ]
    },
    {
      "cell_type": "code",
      "metadata": {
        "id": "qlaRTh7JUylq",
        "colab_type": "code",
        "colab": {}
      },
      "source": [
        "!pip install tensorflow torch onnx onnx-tf\n",
        "\n",
        "# you can just do \n",
        "#!pip install --upgrade --force-reinstall torch\n"
      ],
      "execution_count": 0,
      "outputs": []
    },
    {
      "cell_type": "code",
      "metadata": {
        "id": "wnRypZpkSZNw",
        "colab_type": "code",
        "colab": {}
      },
      "source": [
        "#torch_url=f\"https://download.pytorch.org/whl/nightly/cpu/torch-1.2.0.dev20190804%2Bcpu-cp36-cp36m-linux_x86_64.whl\"\n",
        "#!pip install -U {torch_url} torchvision\n",
        "\n",
        "!pip install torchvision"
      ],
      "execution_count": 0,
      "outputs": []
    },
    {
      "cell_type": "markdown",
      "metadata": {
        "id": "Uc1lLNcnjemx",
        "colab_type": "text"
      },
      "source": [
        "### PyTorch to ONNX"
      ]
    },
    {
      "cell_type": "code",
      "metadata": {
        "id": "bPl-zaZOjifZ",
        "colab_type": "code",
        "colab": {}
      },
      "source": [
        "\n",
        "import torch.onnx\n",
        "import torchvision\n",
        "\n",
        "\n",
        "#help(torch.onnx.export)"
      ],
      "execution_count": 0,
      "outputs": []
    },
    {
      "cell_type": "code",
      "metadata": {
        "id": "Kx7OSkOaQvih",
        "colab_type": "code",
        "colab": {}
      },
      "source": [
        "base_path = './gdrive/My Drive/Colab Notebooks/Fer-dataset/' \n",
        "checkpoint_name = 'akash-mobilenet_v2-FER1-60perc.pt'\n",
        "onnx_export_path = base_path + \"ONNX/mobilenet_v2-bc2.onnx\"\n"
      ],
      "execution_count": 0,
      "outputs": []
    },
    {
      "cell_type": "code",
      "metadata": {
        "id": "cmJoL2rlOkC3",
        "colab_type": "code",
        "outputId": "80f5efa9-f417-4b3c-bda4-2e6ae5ed0d33",
        "colab": {
          "base_uri": "https://localhost:8080/",
          "height": 51
        }
      },
      "source": [
        "\n",
        "# Standard ImageNet input - 3 channels, 224x224,\n",
        "# values don't matter as we care about network structure.\n",
        "# But they can also be real inputs.\n",
        "\n",
        "# A model class instance (class not shown)\n",
        "model_pytorch = torchvision.models.mobilenet_v2(pretrained=False)\n",
        "model_pytorch.classifier[1] = torch.nn.Linear(1280, 7)\n",
        "\n",
        "#print(model)\n",
        "\n",
        "# Load the weights from a file (.pth usually)\n",
        "state_dict = torch.load(base_path + checkpoint_name, map_location=torch.device('cpu'))\n",
        "\n",
        "# Load the weights now into a model net architecture defined by our class\n",
        "model_pytorch.load_state_dict(state_dict)\n",
        "\n",
        "# Single pass of dummy variable required\n",
        "# Create the right input shape (e.g. for an image)\n",
        "dummy_input = torch.randn(1, 3, 256, 256)\n",
        "dummy_output = model_pytorch(dummy_input)\n",
        "dummy_output = torch.softmax(dummy_output, 1)\n",
        "print(dummy_output)\n",
        "\n",
        "# important: explicitly name the input and output nodes! Useful for later \n",
        "torch.onnx.export(model_pytorch, \n",
        "                  dummy_input, \n",
        "                  onnx_export_path,\n",
        "                  input_names=['input'], \n",
        "                  output_names=['output'])\n"
      ],
      "execution_count": 0,
      "outputs": [
        {
          "output_type": "stream",
          "text": [
            "tensor([[0.1051, 0.0037, 0.1743, 0.0883, 0.3438, 0.0218, 0.2629]],\n",
            "       grad_fn=<SoftmaxBackward>)\n"
          ],
          "name": "stdout"
        }
      ]
    },
    {
      "cell_type": "code",
      "metadata": {
        "id": "i6Z0FTuX3rv_",
        "colab_type": "code",
        "colab": {}
      },
      "source": [
        "\n"
      ],
      "execution_count": 0,
      "outputs": []
    },
    {
      "cell_type": "markdown",
      "metadata": {
        "id": "kEXyLdchsJcJ",
        "colab_type": "text"
      },
      "source": [
        "### Import ONNX to Tensorflow"
      ]
    },
    {
      "cell_type": "code",
      "metadata": {
        "id": "j7blU0oSxEiF",
        "colab_type": "code",
        "colab": {}
      },
      "source": [
        "!pip install onnx\n",
        "!pip install git+https://github.com/onnx/onnx-tensorflow.git\n"
      ],
      "execution_count": 0,
      "outputs": []
    },
    {
      "cell_type": "code",
      "metadata": {
        "id": "sAdBfLORxOit",
        "colab_type": "code",
        "colab": {}
      },
      "source": [
        "#!pip uninstall onnx_tf\n",
        "!pip install onnx_tf"
      ],
      "execution_count": 0,
      "outputs": []
    },
    {
      "cell_type": "code",
      "metadata": {
        "id": "Y6AKTbJDsI8f",
        "colab_type": "code",
        "colab": {}
      },
      "source": [
        "import onnx\n",
        "import warnings\n",
        "\n",
        "# If we use a TF version lower than 1.13, we will get the AttributeError:\n",
        "# \"AttributeError: module 'tensorflow' has no attribute 'math'\" or similar\n",
        "from onnx_tf.backend import prepare\n",
        "\n",
        "warnings.filterwarnings('ignore') # Ignore all the warning messages in this tutorial\n",
        "\n",
        "onnx_model = onnx.load(onnx_export_path) # Load the ONNX file\n",
        "\n",
        "tf_rep = prepare(onnx_model) # Import the ONNX model to Tensorflow\n",
        "\n"
      ],
      "execution_count": 0,
      "outputs": []
    },
    {
      "cell_type": "markdown",
      "metadata": {
        "id": "nk2Cr8dNJV1n",
        "colab_type": "text"
      },
      "source": [
        "If you have specified the input and output names in the torch.onnx.export function, you should see the keys ‘input’ and ‘output’ along with their corresponding values, as shown in the snippet below. The names **‘input:0’** and **'add_10:0'** will be used during inference in TensorFlow."
      ]
    },
    {
      "cell_type": "code",
      "metadata": {
        "id": "miFUaB750Bih",
        "colab_type": "code",
        "outputId": "944fdf16-63f6-4e80-af9f-784f9d832d26",
        "colab": {
          "base_uri": "https://localhost:8080/",
          "height": 122
        }
      },
      "source": [
        "# Now we have tf_rep, which is a python class containing four members: \n",
        "# graph, inputs, outputs, and tensor_dict.\n",
        "\n",
        "print(tf_rep.inputs) # Input nodes to the model\n",
        "print('-----')\n",
        "print(tf_rep.outputs) # Output nodes from the model\n",
        "print('-----')\n",
        "print(tf_rep.tensor_dict) # All nodes in the model"
      ],
      "execution_count": 0,
      "outputs": [
        {
          "output_type": "stream",
          "text": [
            "['input']\n",
            "-----\n",
            "['output']\n",
            "-----\n",
            "{'classifier.1.bias': <tf.Tensor 'Const:0' shape=(7,) dtype=float32>, 'classifier.1.weight': <tf.Tensor 'Const_1:0' shape=(7, 1280) dtype=float32>, 'features.0.0.weight': <tf.Tensor 'Const_2:0' shape=(32, 3, 3, 3) dtype=float32>, 'features.0.1.bias': <tf.Tensor 'Const_3:0' shape=(32,) dtype=float32>, 'features.0.1.num_batches_tracked': <tf.Tensor 'Const_4:0' shape=() dtype=int64>, 'features.0.1.running_mean': <tf.Tensor 'Const_5:0' shape=(32,) dtype=float32>, 'features.0.1.running_var': <tf.Tensor 'Const_6:0' shape=(32,) dtype=float32>, 'features.0.1.weight': <tf.Tensor 'Const_7:0' shape=(32,) dtype=float32>, 'features.1.conv.0.0.weight': <tf.Tensor 'Const_8:0' shape=(32, 1, 3, 3) dtype=float32>, 'features.1.conv.0.1.bias': <tf.Tensor 'Const_9:0' shape=(32,) dtype=float32>, 'features.1.conv.0.1.num_batches_tracked': <tf.Tensor 'Const_10:0' shape=() dtype=int64>, 'features.1.conv.0.1.running_mean': <tf.Tensor 'Const_11:0' shape=(32,) dtype=float32>, 'features.1.conv.0.1.running_var': <tf.Tensor 'Const_12:0' shape=(32,) dtype=float32>, 'features.1.conv.0.1.weight': <tf.Tensor 'Const_13:0' shape=(32,) dtype=float32>, 'features.1.conv.1.weight': <tf.Tensor 'Const_14:0' shape=(16, 32, 1, 1) dtype=float32>, 'features.1.conv.2.bias': <tf.Tensor 'Const_15:0' shape=(16,) dtype=float32>, 'features.1.conv.2.num_batches_tracked': <tf.Tensor 'Const_16:0' shape=() dtype=int64>, 'features.1.conv.2.running_mean': <tf.Tensor 'Const_17:0' shape=(16,) dtype=float32>, 'features.1.conv.2.running_var': <tf.Tensor 'Const_18:0' shape=(16,) dtype=float32>, 'features.1.conv.2.weight': <tf.Tensor 'Const_19:0' shape=(16,) dtype=float32>, 'features.10.conv.0.0.weight': <tf.Tensor 'Const_20:0' shape=(384, 64, 1, 1) dtype=float32>, 'features.10.conv.0.1.bias': <tf.Tensor 'Const_21:0' shape=(384,) dtype=float32>, 'features.10.conv.0.1.num_batches_tracked': <tf.Tensor 'Const_22:0' shape=() dtype=int64>, 'features.10.conv.0.1.running_mean': <tf.Tensor 'Const_23:0' shape=(384,) dtype=float32>, 'features.10.conv.0.1.running_var': <tf.Tensor 'Const_24:0' shape=(384,) dtype=float32>, 'features.10.conv.0.1.weight': <tf.Tensor 'Const_25:0' shape=(384,) dtype=float32>, 'features.10.conv.1.0.weight': <tf.Tensor 'Const_26:0' shape=(384, 1, 3, 3) dtype=float32>, 'features.10.conv.1.1.bias': <tf.Tensor 'Const_27:0' shape=(384,) dtype=float32>, 'features.10.conv.1.1.num_batches_tracked': <tf.Tensor 'Const_28:0' shape=() dtype=int64>, 'features.10.conv.1.1.running_mean': <tf.Tensor 'Const_29:0' shape=(384,) dtype=float32>, 'features.10.conv.1.1.running_var': <tf.Tensor 'Const_30:0' shape=(384,) dtype=float32>, 'features.10.conv.1.1.weight': <tf.Tensor 'Const_31:0' shape=(384,) dtype=float32>, 'features.10.conv.2.weight': <tf.Tensor 'Const_32:0' shape=(64, 384, 1, 1) dtype=float32>, 'features.10.conv.3.bias': <tf.Tensor 'Const_33:0' shape=(64,) dtype=float32>, 'features.10.conv.3.num_batches_tracked': <tf.Tensor 'Const_34:0' shape=() dtype=int64>, 'features.10.conv.3.running_mean': <tf.Tensor 'Const_35:0' shape=(64,) dtype=float32>, 'features.10.conv.3.running_var': <tf.Tensor 'Const_36:0' shape=(64,) dtype=float32>, 'features.10.conv.3.weight': <tf.Tensor 'Const_37:0' shape=(64,) dtype=float32>, 'features.11.conv.0.0.weight': <tf.Tensor 'Const_38:0' shape=(384, 64, 1, 1) dtype=float32>, 'features.11.conv.0.1.bias': <tf.Tensor 'Const_39:0' shape=(384,) dtype=float32>, 'features.11.conv.0.1.num_batches_tracked': <tf.Tensor 'Const_40:0' shape=() dtype=int64>, 'features.11.conv.0.1.running_mean': <tf.Tensor 'Const_41:0' shape=(384,) dtype=float32>, 'features.11.conv.0.1.running_var': <tf.Tensor 'Const_42:0' shape=(384,) dtype=float32>, 'features.11.conv.0.1.weight': <tf.Tensor 'Const_43:0' shape=(384,) dtype=float32>, 'features.11.conv.1.0.weight': <tf.Tensor 'Const_44:0' shape=(384, 1, 3, 3) dtype=float32>, 'features.11.conv.1.1.bias': <tf.Tensor 'Const_45:0' shape=(384,) dtype=float32>, 'features.11.conv.1.1.num_batches_tracked': <tf.Tensor 'Const_46:0' shape=() dtype=int64>, 'features.11.conv.1.1.running_mean': <tf.Tensor 'Const_47:0' shape=(384,) dtype=float32>, 'features.11.conv.1.1.running_var': <tf.Tensor 'Const_48:0' shape=(384,) dtype=float32>, 'features.11.conv.1.1.weight': <tf.Tensor 'Const_49:0' shape=(384,) dtype=float32>, 'features.11.conv.2.weight': <tf.Tensor 'Const_50:0' shape=(96, 384, 1, 1) dtype=float32>, 'features.11.conv.3.bias': <tf.Tensor 'Const_51:0' shape=(96,) dtype=float32>, 'features.11.conv.3.num_batches_tracked': <tf.Tensor 'Const_52:0' shape=() dtype=int64>, 'features.11.conv.3.running_mean': <tf.Tensor 'Const_53:0' shape=(96,) dtype=float32>, 'features.11.conv.3.running_var': <tf.Tensor 'Const_54:0' shape=(96,) dtype=float32>, 'features.11.conv.3.weight': <tf.Tensor 'Const_55:0' shape=(96,) dtype=float32>, 'features.12.conv.0.0.weight': <tf.Tensor 'Const_56:0' shape=(576, 96, 1, 1) dtype=float32>, 'features.12.conv.0.1.bias': <tf.Tensor 'Const_57:0' shape=(576,) dtype=float32>, 'features.12.conv.0.1.num_batches_tracked': <tf.Tensor 'Const_58:0' shape=() dtype=int64>, 'features.12.conv.0.1.running_mean': <tf.Tensor 'Const_59:0' shape=(576,) dtype=float32>, 'features.12.conv.0.1.running_var': <tf.Tensor 'Const_60:0' shape=(576,) dtype=float32>, 'features.12.conv.0.1.weight': <tf.Tensor 'Const_61:0' shape=(576,) dtype=float32>, 'features.12.conv.1.0.weight': <tf.Tensor 'Const_62:0' shape=(576, 1, 3, 3) dtype=float32>, 'features.12.conv.1.1.bias': <tf.Tensor 'Const_63:0' shape=(576,) dtype=float32>, 'features.12.conv.1.1.num_batches_tracked': <tf.Tensor 'Const_64:0' shape=() dtype=int64>, 'features.12.conv.1.1.running_mean': <tf.Tensor 'Const_65:0' shape=(576,) dtype=float32>, 'features.12.conv.1.1.running_var': <tf.Tensor 'Const_66:0' shape=(576,) dtype=float32>, 'features.12.conv.1.1.weight': <tf.Tensor 'Const_67:0' shape=(576,) dtype=float32>, 'features.12.conv.2.weight': <tf.Tensor 'Const_68:0' shape=(96, 576, 1, 1) dtype=float32>, 'features.12.conv.3.bias': <tf.Tensor 'Const_69:0' shape=(96,) dtype=float32>, 'features.12.conv.3.num_batches_tracked': <tf.Tensor 'Const_70:0' shape=() dtype=int64>, 'features.12.conv.3.running_mean': <tf.Tensor 'Const_71:0' shape=(96,) dtype=float32>, 'features.12.conv.3.running_var': <tf.Tensor 'Const_72:0' shape=(96,) dtype=float32>, 'features.12.conv.3.weight': <tf.Tensor 'Const_73:0' shape=(96,) dtype=float32>, 'features.13.conv.0.0.weight': <tf.Tensor 'Const_74:0' shape=(576, 96, 1, 1) dtype=float32>, 'features.13.conv.0.1.bias': <tf.Tensor 'Const_75:0' shape=(576,) dtype=float32>, 'features.13.conv.0.1.num_batches_tracked': <tf.Tensor 'Const_76:0' shape=() dtype=int64>, 'features.13.conv.0.1.running_mean': <tf.Tensor 'Const_77:0' shape=(576,) dtype=float32>, 'features.13.conv.0.1.running_var': <tf.Tensor 'Const_78:0' shape=(576,) dtype=float32>, 'features.13.conv.0.1.weight': <tf.Tensor 'Const_79:0' shape=(576,) dtype=float32>, 'features.13.conv.1.0.weight': <tf.Tensor 'Const_80:0' shape=(576, 1, 3, 3) dtype=float32>, 'features.13.conv.1.1.bias': <tf.Tensor 'Const_81:0' shape=(576,) dtype=float32>, 'features.13.conv.1.1.num_batches_tracked': <tf.Tensor 'Const_82:0' shape=() dtype=int64>, 'features.13.conv.1.1.running_mean': <tf.Tensor 'Const_83:0' shape=(576,) dtype=float32>, 'features.13.conv.1.1.running_var': <tf.Tensor 'Const_84:0' shape=(576,) dtype=float32>, 'features.13.conv.1.1.weight': <tf.Tensor 'Const_85:0' shape=(576,) dtype=float32>, 'features.13.conv.2.weight': <tf.Tensor 'Const_86:0' shape=(96, 576, 1, 1) dtype=float32>, 'features.13.conv.3.bias': <tf.Tensor 'Const_87:0' shape=(96,) dtype=float32>, 'features.13.conv.3.num_batches_tracked': <tf.Tensor 'Const_88:0' shape=() dtype=int64>, 'features.13.conv.3.running_mean': <tf.Tensor 'Const_89:0' shape=(96,) dtype=float32>, 'features.13.conv.3.running_var': <tf.Tensor 'Const_90:0' shape=(96,) dtype=float32>, 'features.13.conv.3.weight': <tf.Tensor 'Const_91:0' shape=(96,) dtype=float32>, 'features.14.conv.0.0.weight': <tf.Tensor 'Const_92:0' shape=(576, 96, 1, 1) dtype=float32>, 'features.14.conv.0.1.bias': <tf.Tensor 'Const_93:0' shape=(576,) dtype=float32>, 'features.14.conv.0.1.num_batches_tracked': <tf.Tensor 'Const_94:0' shape=() dtype=int64>, 'features.14.conv.0.1.running_mean': <tf.Tensor 'Const_95:0' shape=(576,) dtype=float32>, 'features.14.conv.0.1.running_var': <tf.Tensor 'Const_96:0' shape=(576,) dtype=float32>, 'features.14.conv.0.1.weight': <tf.Tensor 'Const_97:0' shape=(576,) dtype=float32>, 'features.14.conv.1.0.weight': <tf.Tensor 'Const_98:0' shape=(576, 1, 3, 3) dtype=float32>, 'features.14.conv.1.1.bias': <tf.Tensor 'Const_99:0' shape=(576,) dtype=float32>, 'features.14.conv.1.1.num_batches_tracked': <tf.Tensor 'Const_100:0' shape=() dtype=int64>, 'features.14.conv.1.1.running_mean': <tf.Tensor 'Const_101:0' shape=(576,) dtype=float32>, 'features.14.conv.1.1.running_var': <tf.Tensor 'Const_102:0' shape=(576,) dtype=float32>, 'features.14.conv.1.1.weight': <tf.Tensor 'Const_103:0' shape=(576,) dtype=float32>, 'features.14.conv.2.weight': <tf.Tensor 'Const_104:0' shape=(160, 576, 1, 1) dtype=float32>, 'features.14.conv.3.bias': <tf.Tensor 'Const_105:0' shape=(160,) dtype=float32>, 'features.14.conv.3.num_batches_tracked': <tf.Tensor 'Const_106:0' shape=() dtype=int64>, 'features.14.conv.3.running_mean': <tf.Tensor 'Const_107:0' shape=(160,) dtype=float32>, 'features.14.conv.3.running_var': <tf.Tensor 'Const_108:0' shape=(160,) dtype=float32>, 'features.14.conv.3.weight': <tf.Tensor 'Const_109:0' shape=(160,) dtype=float32>, 'features.15.conv.0.0.weight': <tf.Tensor 'Const_110:0' shape=(960, 160, 1, 1) dtype=float32>, 'features.15.conv.0.1.bias': <tf.Tensor 'Const_111:0' shape=(960,) dtype=float32>, 'features.15.conv.0.1.num_batches_tracked': <tf.Tensor 'Const_112:0' shape=() dtype=int64>, 'features.15.conv.0.1.running_mean': <tf.Tensor 'Const_113:0' shape=(960,) dtype=float32>, 'features.15.conv.0.1.running_var': <tf.Tensor 'Const_114:0' shape=(960,) dtype=float32>, 'features.15.conv.0.1.weight': <tf.Tensor 'Const_115:0' shape=(960,) dtype=float32>, 'features.15.conv.1.0.weight': <tf.Tensor 'Const_116:0' shape=(960, 1, 3, 3) dtype=float32>, 'features.15.conv.1.1.bias': <tf.Tensor 'Const_117:0' shape=(960,) dtype=float32>, 'features.15.conv.1.1.num_batches_tracked': <tf.Tensor 'Const_118:0' shape=() dtype=int64>, 'features.15.conv.1.1.running_mean': <tf.Tensor 'Const_119:0' shape=(960,) dtype=float32>, 'features.15.conv.1.1.running_var': <tf.Tensor 'Const_120:0' shape=(960,) dtype=float32>, 'features.15.conv.1.1.weight': <tf.Tensor 'Const_121:0' shape=(960,) dtype=float32>, 'features.15.conv.2.weight': <tf.Tensor 'Const_122:0' shape=(160, 960, 1, 1) dtype=float32>, 'features.15.conv.3.bias': <tf.Tensor 'Const_123:0' shape=(160,) dtype=float32>, 'features.15.conv.3.num_batches_tracked': <tf.Tensor 'Const_124:0' shape=() dtype=int64>, 'features.15.conv.3.running_mean': <tf.Tensor 'Const_125:0' shape=(160,) dtype=float32>, 'features.15.conv.3.running_var': <tf.Tensor 'Const_126:0' shape=(160,) dtype=float32>, 'features.15.conv.3.weight': <tf.Tensor 'Const_127:0' shape=(160,) dtype=float32>, 'features.16.conv.0.0.weight': <tf.Tensor 'Const_128:0' shape=(960, 160, 1, 1) dtype=float32>, 'features.16.conv.0.1.bias': <tf.Tensor 'Const_129:0' shape=(960,) dtype=float32>, 'features.16.conv.0.1.num_batches_tracked': <tf.Tensor 'Const_130:0' shape=() dtype=int64>, 'features.16.conv.0.1.running_mean': <tf.Tensor 'Const_131:0' shape=(960,) dtype=float32>, 'features.16.conv.0.1.running_var': <tf.Tensor 'Const_132:0' shape=(960,) dtype=float32>, 'features.16.conv.0.1.weight': <tf.Tensor 'Const_133:0' shape=(960,) dtype=float32>, 'features.16.conv.1.0.weight': <tf.Tensor 'Const_134:0' shape=(960, 1, 3, 3) dtype=float32>, 'features.16.conv.1.1.bias': <tf.Tensor 'Const_135:0' shape=(960,) dtype=float32>, 'features.16.conv.1.1.num_batches_tracked': <tf.Tensor 'Const_136:0' shape=() dtype=int64>, 'features.16.conv.1.1.running_mean': <tf.Tensor 'Const_137:0' shape=(960,) dtype=float32>, 'features.16.conv.1.1.running_var': <tf.Tensor 'Const_138:0' shape=(960,) dtype=float32>, 'features.16.conv.1.1.weight': <tf.Tensor 'Const_139:0' shape=(960,) dtype=float32>, 'features.16.conv.2.weight': <tf.Tensor 'Const_140:0' shape=(160, 960, 1, 1) dtype=float32>, 'features.16.conv.3.bias': <tf.Tensor 'Const_141:0' shape=(160,) dtype=float32>, 'features.16.conv.3.num_batches_tracked': <tf.Tensor 'Const_142:0' shape=() dtype=int64>, 'features.16.conv.3.running_mean': <tf.Tensor 'Const_143:0' shape=(160,) dtype=float32>, 'features.16.conv.3.running_var': <tf.Tensor 'Const_144:0' shape=(160,) dtype=float32>, 'features.16.conv.3.weight': <tf.Tensor 'Const_145:0' shape=(160,) dtype=float32>, 'features.17.conv.0.0.weight': <tf.Tensor 'Const_146:0' shape=(960, 160, 1, 1) dtype=float32>, 'features.17.conv.0.1.bias': <tf.Tensor 'Const_147:0' shape=(960,) dtype=float32>, 'features.17.conv.0.1.num_batches_tracked': <tf.Tensor 'Const_148:0' shape=() dtype=int64>, 'features.17.conv.0.1.running_mean': <tf.Tensor 'Const_149:0' shape=(960,) dtype=float32>, 'features.17.conv.0.1.running_var': <tf.Tensor 'Const_150:0' shape=(960,) dtype=float32>, 'features.17.conv.0.1.weight': <tf.Tensor 'Const_151:0' shape=(960,) dtype=float32>, 'features.17.conv.1.0.weight': <tf.Tensor 'Const_152:0' shape=(960, 1, 3, 3) dtype=float32>, 'features.17.conv.1.1.bias': <tf.Tensor 'Const_153:0' shape=(960,) dtype=float32>, 'features.17.conv.1.1.num_batches_tracked': <tf.Tensor 'Const_154:0' shape=() dtype=int64>, 'features.17.conv.1.1.running_mean': <tf.Tensor 'Const_155:0' shape=(960,) dtype=float32>, 'features.17.conv.1.1.running_var': <tf.Tensor 'Const_156:0' shape=(960,) dtype=float32>, 'features.17.conv.1.1.weight': <tf.Tensor 'Const_157:0' shape=(960,) dtype=float32>, 'features.17.conv.2.weight': <tf.Tensor 'Const_158:0' shape=(320, 960, 1, 1) dtype=float32>, 'features.17.conv.3.bias': <tf.Tensor 'Const_159:0' shape=(320,) dtype=float32>, 'features.17.conv.3.num_batches_tracked': <tf.Tensor 'Const_160:0' shape=() dtype=int64>, 'features.17.conv.3.running_mean': <tf.Tensor 'Const_161:0' shape=(320,) dtype=float32>, 'features.17.conv.3.running_var': <tf.Tensor 'Const_162:0' shape=(320,) dtype=float32>, 'features.17.conv.3.weight': <tf.Tensor 'Const_163:0' shape=(320,) dtype=float32>, 'features.18.0.weight': <tf.Tensor 'Const_164:0' shape=(1280, 320, 1, 1) dtype=float32>, 'features.18.1.bias': <tf.Tensor 'Const_165:0' shape=(1280,) dtype=float32>, 'features.18.1.num_batches_tracked': <tf.Tensor 'Const_166:0' shape=() dtype=int64>, 'features.18.1.running_mean': <tf.Tensor 'Const_167:0' shape=(1280,) dtype=float32>, 'features.18.1.running_var': <tf.Tensor 'Const_168:0' shape=(1280,) dtype=float32>, 'features.18.1.weight': <tf.Tensor 'Const_169:0' shape=(1280,) dtype=float32>, 'features.2.conv.0.0.weight': <tf.Tensor 'Const_170:0' shape=(96, 16, 1, 1) dtype=float32>, 'features.2.conv.0.1.bias': <tf.Tensor 'Const_171:0' shape=(96,) dtype=float32>, 'features.2.conv.0.1.num_batches_tracked': <tf.Tensor 'Const_172:0' shape=() dtype=int64>, 'features.2.conv.0.1.running_mean': <tf.Tensor 'Const_173:0' shape=(96,) dtype=float32>, 'features.2.conv.0.1.running_var': <tf.Tensor 'Const_174:0' shape=(96,) dtype=float32>, 'features.2.conv.0.1.weight': <tf.Tensor 'Const_175:0' shape=(96,) dtype=float32>, 'features.2.conv.1.0.weight': <tf.Tensor 'Const_176:0' shape=(96, 1, 3, 3) dtype=float32>, 'features.2.conv.1.1.bias': <tf.Tensor 'Const_177:0' shape=(96,) dtype=float32>, 'features.2.conv.1.1.num_batches_tracked': <tf.Tensor 'Const_178:0' shape=() dtype=int64>, 'features.2.conv.1.1.running_mean': <tf.Tensor 'Const_179:0' shape=(96,) dtype=float32>, 'features.2.conv.1.1.running_var': <tf.Tensor 'Const_180:0' shape=(96,) dtype=float32>, 'features.2.conv.1.1.weight': <tf.Tensor 'Const_181:0' shape=(96,) dtype=float32>, 'features.2.conv.2.weight': <tf.Tensor 'Const_182:0' shape=(24, 96, 1, 1) dtype=float32>, 'features.2.conv.3.bias': <tf.Tensor 'Const_183:0' shape=(24,) dtype=float32>, 'features.2.conv.3.num_batches_tracked': <tf.Tensor 'Const_184:0' shape=() dtype=int64>, 'features.2.conv.3.running_mean': <tf.Tensor 'Const_185:0' shape=(24,) dtype=float32>, 'features.2.conv.3.running_var': <tf.Tensor 'Const_186:0' shape=(24,) dtype=float32>, 'features.2.conv.3.weight': <tf.Tensor 'Const_187:0' shape=(24,) dtype=float32>, 'features.3.conv.0.0.weight': <tf.Tensor 'Const_188:0' shape=(144, 24, 1, 1) dtype=float32>, 'features.3.conv.0.1.bias': <tf.Tensor 'Const_189:0' shape=(144,) dtype=float32>, 'features.3.conv.0.1.num_batches_tracked': <tf.Tensor 'Const_190:0' shape=() dtype=int64>, 'features.3.conv.0.1.running_mean': <tf.Tensor 'Const_191:0' shape=(144,) dtype=float32>, 'features.3.conv.0.1.running_var': <tf.Tensor 'Const_192:0' shape=(144,) dtype=float32>, 'features.3.conv.0.1.weight': <tf.Tensor 'Const_193:0' shape=(144,) dtype=float32>, 'features.3.conv.1.0.weight': <tf.Tensor 'Const_194:0' shape=(144, 1, 3, 3) dtype=float32>, 'features.3.conv.1.1.bias': <tf.Tensor 'Const_195:0' shape=(144,) dtype=float32>, 'features.3.conv.1.1.num_batches_tracked': <tf.Tensor 'Const_196:0' shape=() dtype=int64>, 'features.3.conv.1.1.running_mean': <tf.Tensor 'Const_197:0' shape=(144,) dtype=float32>, 'features.3.conv.1.1.running_var': <tf.Tensor 'Const_198:0' shape=(144,) dtype=float32>, 'features.3.conv.1.1.weight': <tf.Tensor 'Const_199:0' shape=(144,) dtype=float32>, 'features.3.conv.2.weight': <tf.Tensor 'Const_200:0' shape=(24, 144, 1, 1) dtype=float32>, 'features.3.conv.3.bias': <tf.Tensor 'Const_201:0' shape=(24,) dtype=float32>, 'features.3.conv.3.num_batches_tracked': <tf.Tensor 'Const_202:0' shape=() dtype=int64>, 'features.3.conv.3.running_mean': <tf.Tensor 'Const_203:0' shape=(24,) dtype=float32>, 'features.3.conv.3.running_var': <tf.Tensor 'Const_204:0' shape=(24,) dtype=float32>, 'features.3.conv.3.weight': <tf.Tensor 'Const_205:0' shape=(24,) dtype=float32>, 'features.4.conv.0.0.weight': <tf.Tensor 'Const_206:0' shape=(144, 24, 1, 1) dtype=float32>, 'features.4.conv.0.1.bias': <tf.Tensor 'Const_207:0' shape=(144,) dtype=float32>, 'features.4.conv.0.1.num_batches_tracked': <tf.Tensor 'Const_208:0' shape=() dtype=int64>, 'features.4.conv.0.1.running_mean': <tf.Tensor 'Const_209:0' shape=(144,) dtype=float32>, 'features.4.conv.0.1.running_var': <tf.Tensor 'Const_210:0' shape=(144,) dtype=float32>, 'features.4.conv.0.1.weight': <tf.Tensor 'Const_211:0' shape=(144,) dtype=float32>, 'features.4.conv.1.0.weight': <tf.Tensor 'Const_212:0' shape=(144, 1, 3, 3) dtype=float32>, 'features.4.conv.1.1.bias': <tf.Tensor 'Const_213:0' shape=(144,) dtype=float32>, 'features.4.conv.1.1.num_batches_tracked': <tf.Tensor 'Const_214:0' shape=() dtype=int64>, 'features.4.conv.1.1.running_mean': <tf.Tensor 'Const_215:0' shape=(144,) dtype=float32>, 'features.4.conv.1.1.running_var': <tf.Tensor 'Const_216:0' shape=(144,) dtype=float32>, 'features.4.conv.1.1.weight': <tf.Tensor 'Const_217:0' shape=(144,) dtype=float32>, 'features.4.conv.2.weight': <tf.Tensor 'Const_218:0' shape=(32, 144, 1, 1) dtype=float32>, 'features.4.conv.3.bias': <tf.Tensor 'Const_219:0' shape=(32,) dtype=float32>, 'features.4.conv.3.num_batches_tracked': <tf.Tensor 'Const_220:0' shape=() dtype=int64>, 'features.4.conv.3.running_mean': <tf.Tensor 'Const_221:0' shape=(32,) dtype=float32>, 'features.4.conv.3.running_var': <tf.Tensor 'Const_222:0' shape=(32,) dtype=float32>, 'features.4.conv.3.weight': <tf.Tensor 'Const_223:0' shape=(32,) dtype=float32>, 'features.5.conv.0.0.weight': <tf.Tensor 'Const_224:0' shape=(192, 32, 1, 1) dtype=float32>, 'features.5.conv.0.1.bias': <tf.Tensor 'Const_225:0' shape=(192,) dtype=float32>, 'features.5.conv.0.1.num_batches_tracked': <tf.Tensor 'Const_226:0' shape=() dtype=int64>, 'features.5.conv.0.1.running_mean': <tf.Tensor 'Const_227:0' shape=(192,) dtype=float32>, 'features.5.conv.0.1.running_var': <tf.Tensor 'Const_228:0' shape=(192,) dtype=float32>, 'features.5.conv.0.1.weight': <tf.Tensor 'Const_229:0' shape=(192,) dtype=float32>, 'features.5.conv.1.0.weight': <tf.Tensor 'Const_230:0' shape=(192, 1, 3, 3) dtype=float32>, 'features.5.conv.1.1.bias': <tf.Tensor 'Const_231:0' shape=(192,) dtype=float32>, 'features.5.conv.1.1.num_batches_tracked': <tf.Tensor 'Const_232:0' shape=() dtype=int64>, 'features.5.conv.1.1.running_mean': <tf.Tensor 'Const_233:0' shape=(192,) dtype=float32>, 'features.5.conv.1.1.running_var': <tf.Tensor 'Const_234:0' shape=(192,) dtype=float32>, 'features.5.conv.1.1.weight': <tf.Tensor 'Const_235:0' shape=(192,) dtype=float32>, 'features.5.conv.2.weight': <tf.Tensor 'Const_236:0' shape=(32, 192, 1, 1) dtype=float32>, 'features.5.conv.3.bias': <tf.Tensor 'Const_237:0' shape=(32,) dtype=float32>, 'features.5.conv.3.num_batches_tracked': <tf.Tensor 'Const_238:0' shape=() dtype=int64>, 'features.5.conv.3.running_mean': <tf.Tensor 'Const_239:0' shape=(32,) dtype=float32>, 'features.5.conv.3.running_var': <tf.Tensor 'Const_240:0' shape=(32,) dtype=float32>, 'features.5.conv.3.weight': <tf.Tensor 'Const_241:0' shape=(32,) dtype=float32>, 'features.6.conv.0.0.weight': <tf.Tensor 'Const_242:0' shape=(192, 32, 1, 1) dtype=float32>, 'features.6.conv.0.1.bias': <tf.Tensor 'Const_243:0' shape=(192,) dtype=float32>, 'features.6.conv.0.1.num_batches_tracked': <tf.Tensor 'Const_244:0' shape=() dtype=int64>, 'features.6.conv.0.1.running_mean': <tf.Tensor 'Const_245:0' shape=(192,) dtype=float32>, 'features.6.conv.0.1.running_var': <tf.Tensor 'Const_246:0' shape=(192,) dtype=float32>, 'features.6.conv.0.1.weight': <tf.Tensor 'Const_247:0' shape=(192,) dtype=float32>, 'features.6.conv.1.0.weight': <tf.Tensor 'Const_248:0' shape=(192, 1, 3, 3) dtype=float32>, 'features.6.conv.1.1.bias': <tf.Tensor 'Const_249:0' shape=(192,) dtype=float32>, 'features.6.conv.1.1.num_batches_tracked': <tf.Tensor 'Const_250:0' shape=() dtype=int64>, 'features.6.conv.1.1.running_mean': <tf.Tensor 'Const_251:0' shape=(192,) dtype=float32>, 'features.6.conv.1.1.running_var': <tf.Tensor 'Const_252:0' shape=(192,) dtype=float32>, 'features.6.conv.1.1.weight': <tf.Tensor 'Const_253:0' shape=(192,) dtype=float32>, 'features.6.conv.2.weight': <tf.Tensor 'Const_254:0' shape=(32, 192, 1, 1) dtype=float32>, 'features.6.conv.3.bias': <tf.Tensor 'Const_255:0' shape=(32,) dtype=float32>, 'features.6.conv.3.num_batches_tracked': <tf.Tensor 'Const_256:0' shape=() dtype=int64>, 'features.6.conv.3.running_mean': <tf.Tensor 'Const_257:0' shape=(32,) dtype=float32>, 'features.6.conv.3.running_var': <tf.Tensor 'Const_258:0' shape=(32,) dtype=float32>, 'features.6.conv.3.weight': <tf.Tensor 'Const_259:0' shape=(32,) dtype=float32>, 'features.7.conv.0.0.weight': <tf.Tensor 'Const_260:0' shape=(192, 32, 1, 1) dtype=float32>, 'features.7.conv.0.1.bias': <tf.Tensor 'Const_261:0' shape=(192,) dtype=float32>, 'features.7.conv.0.1.num_batches_tracked': <tf.Tensor 'Const_262:0' shape=() dtype=int64>, 'features.7.conv.0.1.running_mean': <tf.Tensor 'Const_263:0' shape=(192,) dtype=float32>, 'features.7.conv.0.1.running_var': <tf.Tensor 'Const_264:0' shape=(192,) dtype=float32>, 'features.7.conv.0.1.weight': <tf.Tensor 'Const_265:0' shape=(192,) dtype=float32>, 'features.7.conv.1.0.weight': <tf.Tensor 'Const_266:0' shape=(192, 1, 3, 3) dtype=float32>, 'features.7.conv.1.1.bias': <tf.Tensor 'Const_267:0' shape=(192,) dtype=float32>, 'features.7.conv.1.1.num_batches_tracked': <tf.Tensor 'Const_268:0' shape=() dtype=int64>, 'features.7.conv.1.1.running_mean': <tf.Tensor 'Const_269:0' shape=(192,) dtype=float32>, 'features.7.conv.1.1.running_var': <tf.Tensor 'Const_270:0' shape=(192,) dtype=float32>, 'features.7.conv.1.1.weight': <tf.Tensor 'Const_271:0' shape=(192,) dtype=float32>, 'features.7.conv.2.weight': <tf.Tensor 'Const_272:0' shape=(64, 192, 1, 1) dtype=float32>, 'features.7.conv.3.bias': <tf.Tensor 'Const_273:0' shape=(64,) dtype=float32>, 'features.7.conv.3.num_batches_tracked': <tf.Tensor 'Const_274:0' shape=() dtype=int64>, 'features.7.conv.3.running_mean': <tf.Tensor 'Const_275:0' shape=(64,) dtype=float32>, 'features.7.conv.3.running_var': <tf.Tensor 'Const_276:0' shape=(64,) dtype=float32>, 'features.7.conv.3.weight': <tf.Tensor 'Const_277:0' shape=(64,) dtype=float32>, 'features.8.conv.0.0.weight': <tf.Tensor 'Const_278:0' shape=(384, 64, 1, 1) dtype=float32>, 'features.8.conv.0.1.bias': <tf.Tensor 'Const_279:0' shape=(384,) dtype=float32>, 'features.8.conv.0.1.num_batches_tracked': <tf.Tensor 'Const_280:0' shape=() dtype=int64>, 'features.8.conv.0.1.running_mean': <tf.Tensor 'Const_281:0' shape=(384,) dtype=float32>, 'features.8.conv.0.1.running_var': <tf.Tensor 'Const_282:0' shape=(384,) dtype=float32>, 'features.8.conv.0.1.weight': <tf.Tensor 'Const_283:0' shape=(384,) dtype=float32>, 'features.8.conv.1.0.weight': <tf.Tensor 'Const_284:0' shape=(384, 1, 3, 3) dtype=float32>, 'features.8.conv.1.1.bias': <tf.Tensor 'Const_285:0' shape=(384,) dtype=float32>, 'features.8.conv.1.1.num_batches_tracked': <tf.Tensor 'Const_286:0' shape=() dtype=int64>, 'features.8.conv.1.1.running_mean': <tf.Tensor 'Const_287:0' shape=(384,) dtype=float32>, 'features.8.conv.1.1.running_var': <tf.Tensor 'Const_288:0' shape=(384,) dtype=float32>, 'features.8.conv.1.1.weight': <tf.Tensor 'Const_289:0' shape=(384,) dtype=float32>, 'features.8.conv.2.weight': <tf.Tensor 'Const_290:0' shape=(64, 384, 1, 1) dtype=float32>, 'features.8.conv.3.bias': <tf.Tensor 'Const_291:0' shape=(64,) dtype=float32>, 'features.8.conv.3.num_batches_tracked': <tf.Tensor 'Const_292:0' shape=() dtype=int64>, 'features.8.conv.3.running_mean': <tf.Tensor 'Const_293:0' shape=(64,) dtype=float32>, 'features.8.conv.3.running_var': <tf.Tensor 'Const_294:0' shape=(64,) dtype=float32>, 'features.8.conv.3.weight': <tf.Tensor 'Const_295:0' shape=(64,) dtype=float32>, 'features.9.conv.0.0.weight': <tf.Tensor 'Const_296:0' shape=(384, 64, 1, 1) dtype=float32>, 'features.9.conv.0.1.bias': <tf.Tensor 'Const_297:0' shape=(384,) dtype=float32>, 'features.9.conv.0.1.num_batches_tracked': <tf.Tensor 'Const_298:0' shape=() dtype=int64>, 'features.9.conv.0.1.running_mean': <tf.Tensor 'Const_299:0' shape=(384,) dtype=float32>, 'features.9.conv.0.1.running_var': <tf.Tensor 'Const_300:0' shape=(384,) dtype=float32>, 'features.9.conv.0.1.weight': <tf.Tensor 'Const_301:0' shape=(384,) dtype=float32>, 'features.9.conv.1.0.weight': <tf.Tensor 'Const_302:0' shape=(384, 1, 3, 3) dtype=float32>, 'features.9.conv.1.1.bias': <tf.Tensor 'Const_303:0' shape=(384,) dtype=float32>, 'features.9.conv.1.1.num_batches_tracked': <tf.Tensor 'Const_304:0' shape=() dtype=int64>, 'features.9.conv.1.1.running_mean': <tf.Tensor 'Const_305:0' shape=(384,) dtype=float32>, 'features.9.conv.1.1.running_var': <tf.Tensor 'Const_306:0' shape=(384,) dtype=float32>, 'features.9.conv.1.1.weight': <tf.Tensor 'Const_307:0' shape=(384,) dtype=float32>, 'features.9.conv.2.weight': <tf.Tensor 'Const_308:0' shape=(64, 384, 1, 1) dtype=float32>, 'features.9.conv.3.bias': <tf.Tensor 'Const_309:0' shape=(64,) dtype=float32>, 'features.9.conv.3.num_batches_tracked': <tf.Tensor 'Const_310:0' shape=() dtype=int64>, 'features.9.conv.3.running_mean': <tf.Tensor 'Const_311:0' shape=(64,) dtype=float32>, 'features.9.conv.3.running_var': <tf.Tensor 'Const_312:0' shape=(64,) dtype=float32>, 'features.9.conv.3.weight': <tf.Tensor 'Const_313:0' shape=(64,) dtype=float32>, 'input': <tf.Tensor 'input:0' shape=(1, 3, 256, 256) dtype=float32>, '315': <tf.Tensor 'concat:0' shape=(1, 32, 128, 128) dtype=float32>, '316': <tf.Tensor 'batchnorm/add_1:0' shape=(1, 32, 128, 128) dtype=float32>, '317': <tf.Tensor 'clip_by_value:0' shape=(1, 32, 128, 128) dtype=float32>, '318': <tf.Tensor 'concat_1:0' shape=(1, 32, 128, 128) dtype=float32>, '319': <tf.Tensor 'batchnorm_1/add_1:0' shape=(1, 32, 128, 128) dtype=float32>, '320': <tf.Tensor 'clip_by_value_1:0' shape=(1, 32, 128, 128) dtype=float32>, '321': <tf.Tensor 'concat_2:0' shape=(1, 16, 128, 128) dtype=float32>, '322': <tf.Tensor 'batchnorm_2/add_1:0' shape=(1, 16, 128, 128) dtype=float32>, '323': <tf.Tensor 'concat_3:0' shape=(1, 96, 128, 128) dtype=float32>, '324': <tf.Tensor 'batchnorm_3/add_1:0' shape=(1, 96, 128, 128) dtype=float32>, '325': <tf.Tensor 'clip_by_value_2:0' shape=(1, 96, 128, 128) dtype=float32>, '326': <tf.Tensor 'concat_4:0' shape=(1, 96, 64, 64) dtype=float32>, '327': <tf.Tensor 'batchnorm_4/add_1:0' shape=(1, 96, 64, 64) dtype=float32>, '328': <tf.Tensor 'clip_by_value_3:0' shape=(1, 96, 64, 64) dtype=float32>, '329': <tf.Tensor 'concat_5:0' shape=(1, 24, 64, 64) dtype=float32>, '330': <tf.Tensor 'batchnorm_5/add_1:0' shape=(1, 24, 64, 64) dtype=float32>, '331': <tf.Tensor 'concat_6:0' shape=(1, 144, 64, 64) dtype=float32>, '332': <tf.Tensor 'batchnorm_6/add_1:0' shape=(1, 144, 64, 64) dtype=float32>, '333': <tf.Tensor 'clip_by_value_4:0' shape=(1, 144, 64, 64) dtype=float32>, '334': <tf.Tensor 'concat_7:0' shape=(1, 144, 64, 64) dtype=float32>, '335': <tf.Tensor 'batchnorm_7/add_1:0' shape=(1, 144, 64, 64) dtype=float32>, '336': <tf.Tensor 'clip_by_value_5:0' shape=(1, 144, 64, 64) dtype=float32>, '337': <tf.Tensor 'concat_8:0' shape=(1, 24, 64, 64) dtype=float32>, '338': <tf.Tensor 'batchnorm_8/add_1:0' shape=(1, 24, 64, 64) dtype=float32>, '339': <tf.Tensor 'Add:0' shape=(1, 24, 64, 64) dtype=float32>, '340': <tf.Tensor 'concat_9:0' shape=(1, 144, 64, 64) dtype=float32>, '341': <tf.Tensor 'batchnorm_9/add_1:0' shape=(1, 144, 64, 64) dtype=float32>, '342': <tf.Tensor 'clip_by_value_6:0' shape=(1, 144, 64, 64) dtype=float32>, '343': <tf.Tensor 'concat_10:0' shape=(1, 144, 32, 32) dtype=float32>, '344': <tf.Tensor 'batchnorm_10/add_1:0' shape=(1, 144, 32, 32) dtype=float32>, '345': <tf.Tensor 'clip_by_value_7:0' shape=(1, 144, 32, 32) dtype=float32>, '346': <tf.Tensor 'concat_11:0' shape=(1, 32, 32, 32) dtype=float32>, '347': <tf.Tensor 'batchnorm_11/add_1:0' shape=(1, 32, 32, 32) dtype=float32>, '348': <tf.Tensor 'concat_12:0' shape=(1, 192, 32, 32) dtype=float32>, '349': <tf.Tensor 'batchnorm_12/add_1:0' shape=(1, 192, 32, 32) dtype=float32>, '350': <tf.Tensor 'clip_by_value_8:0' shape=(1, 192, 32, 32) dtype=float32>, '351': <tf.Tensor 'concat_13:0' shape=(1, 192, 32, 32) dtype=float32>, '352': <tf.Tensor 'batchnorm_13/add_1:0' shape=(1, 192, 32, 32) dtype=float32>, '353': <tf.Tensor 'clip_by_value_9:0' shape=(1, 192, 32, 32) dtype=float32>, '354': <tf.Tensor 'concat_14:0' shape=(1, 32, 32, 32) dtype=float32>, '355': <tf.Tensor 'batchnorm_14/add_1:0' shape=(1, 32, 32, 32) dtype=float32>, '356': <tf.Tensor 'Add_1:0' shape=(1, 32, 32, 32) dtype=float32>, '357': <tf.Tensor 'concat_15:0' shape=(1, 192, 32, 32) dtype=float32>, '358': <tf.Tensor 'batchnorm_15/add_1:0' shape=(1, 192, 32, 32) dtype=float32>, '359': <tf.Tensor 'clip_by_value_10:0' shape=(1, 192, 32, 32) dtype=float32>, '360': <tf.Tensor 'concat_16:0' shape=(1, 192, 32, 32) dtype=float32>, '361': <tf.Tensor 'batchnorm_16/add_1:0' shape=(1, 192, 32, 32) dtype=float32>, '362': <tf.Tensor 'clip_by_value_11:0' shape=(1, 192, 32, 32) dtype=float32>, '363': <tf.Tensor 'concat_17:0' shape=(1, 32, 32, 32) dtype=float32>, '364': <tf.Tensor 'batchnorm_17/add_1:0' shape=(1, 32, 32, 32) dtype=float32>, '365': <tf.Tensor 'Add_2:0' shape=(1, 32, 32, 32) dtype=float32>, '366': <tf.Tensor 'concat_18:0' shape=(1, 192, 32, 32) dtype=float32>, '367': <tf.Tensor 'batchnorm_18/add_1:0' shape=(1, 192, 32, 32) dtype=float32>, '368': <tf.Tensor 'clip_by_value_12:0' shape=(1, 192, 32, 32) dtype=float32>, '369': <tf.Tensor 'concat_19:0' shape=(1, 192, 16, 16) dtype=float32>, '370': <tf.Tensor 'batchnorm_19/add_1:0' shape=(1, 192, 16, 16) dtype=float32>, '371': <tf.Tensor 'clip_by_value_13:0' shape=(1, 192, 16, 16) dtype=float32>, '372': <tf.Tensor 'concat_20:0' shape=(1, 64, 16, 16) dtype=float32>, '373': <tf.Tensor 'batchnorm_20/add_1:0' shape=(1, 64, 16, 16) dtype=float32>, '374': <tf.Tensor 'concat_21:0' shape=(1, 384, 16, 16) dtype=float32>, '375': <tf.Tensor 'batchnorm_21/add_1:0' shape=(1, 384, 16, 16) dtype=float32>, '376': <tf.Tensor 'clip_by_value_14:0' shape=(1, 384, 16, 16) dtype=float32>, '377': <tf.Tensor 'concat_22:0' shape=(1, 384, 16, 16) dtype=float32>, '378': <tf.Tensor 'batchnorm_22/add_1:0' shape=(1, 384, 16, 16) dtype=float32>, '379': <tf.Tensor 'clip_by_value_15:0' shape=(1, 384, 16, 16) dtype=float32>, '380': <tf.Tensor 'concat_23:0' shape=(1, 64, 16, 16) dtype=float32>, '381': <tf.Tensor 'batchnorm_23/add_1:0' shape=(1, 64, 16, 16) dtype=float32>, '382': <tf.Tensor 'Add_3:0' shape=(1, 64, 16, 16) dtype=float32>, '383': <tf.Tensor 'concat_24:0' shape=(1, 384, 16, 16) dtype=float32>, '384': <tf.Tensor 'batchnorm_24/add_1:0' shape=(1, 384, 16, 16) dtype=float32>, '385': <tf.Tensor 'clip_by_value_16:0' shape=(1, 384, 16, 16) dtype=float32>, '386': <tf.Tensor 'concat_25:0' shape=(1, 384, 16, 16) dtype=float32>, '387': <tf.Tensor 'batchnorm_25/add_1:0' shape=(1, 384, 16, 16) dtype=float32>, '388': <tf.Tensor 'clip_by_value_17:0' shape=(1, 384, 16, 16) dtype=float32>, '389': <tf.Tensor 'concat_26:0' shape=(1, 64, 16, 16) dtype=float32>, '390': <tf.Tensor 'batchnorm_26/add_1:0' shape=(1, 64, 16, 16) dtype=float32>, '391': <tf.Tensor 'Add_4:0' shape=(1, 64, 16, 16) dtype=float32>, '392': <tf.Tensor 'concat_27:0' shape=(1, 384, 16, 16) dtype=float32>, '393': <tf.Tensor 'batchnorm_27/add_1:0' shape=(1, 384, 16, 16) dtype=float32>, '394': <tf.Tensor 'clip_by_value_18:0' shape=(1, 384, 16, 16) dtype=float32>, '395': <tf.Tensor 'concat_28:0' shape=(1, 384, 16, 16) dtype=float32>, '396': <tf.Tensor 'batchnorm_28/add_1:0' shape=(1, 384, 16, 16) dtype=float32>, '397': <tf.Tensor 'clip_by_value_19:0' shape=(1, 384, 16, 16) dtype=float32>, '398': <tf.Tensor 'concat_29:0' shape=(1, 64, 16, 16) dtype=float32>, '399': <tf.Tensor 'batchnorm_29/add_1:0' shape=(1, 64, 16, 16) dtype=float32>, '400': <tf.Tensor 'Add_5:0' shape=(1, 64, 16, 16) dtype=float32>, '401': <tf.Tensor 'concat_30:0' shape=(1, 384, 16, 16) dtype=float32>, '402': <tf.Tensor 'batchnorm_30/add_1:0' shape=(1, 384, 16, 16) dtype=float32>, '403': <tf.Tensor 'clip_by_value_20:0' shape=(1, 384, 16, 16) dtype=float32>, '404': <tf.Tensor 'concat_31:0' shape=(1, 384, 16, 16) dtype=float32>, '405': <tf.Tensor 'batchnorm_31/add_1:0' shape=(1, 384, 16, 16) dtype=float32>, '406': <tf.Tensor 'clip_by_value_21:0' shape=(1, 384, 16, 16) dtype=float32>, '407': <tf.Tensor 'concat_32:0' shape=(1, 96, 16, 16) dtype=float32>, '408': <tf.Tensor 'batchnorm_32/add_1:0' shape=(1, 96, 16, 16) dtype=float32>, '409': <tf.Tensor 'concat_33:0' shape=(1, 576, 16, 16) dtype=float32>, '410': <tf.Tensor 'batchnorm_33/add_1:0' shape=(1, 576, 16, 16) dtype=float32>, '411': <tf.Tensor 'clip_by_value_22:0' shape=(1, 576, 16, 16) dtype=float32>, '412': <tf.Tensor 'concat_34:0' shape=(1, 576, 16, 16) dtype=float32>, '413': <tf.Tensor 'batchnorm_34/add_1:0' shape=(1, 576, 16, 16) dtype=float32>, '414': <tf.Tensor 'clip_by_value_23:0' shape=(1, 576, 16, 16) dtype=float32>, '415': <tf.Tensor 'concat_35:0' shape=(1, 96, 16, 16) dtype=float32>, '416': <tf.Tensor 'batchnorm_35/add_1:0' shape=(1, 96, 16, 16) dtype=float32>, '417': <tf.Tensor 'Add_6:0' shape=(1, 96, 16, 16) dtype=float32>, '418': <tf.Tensor 'concat_36:0' shape=(1, 576, 16, 16) dtype=float32>, '419': <tf.Tensor 'batchnorm_36/add_1:0' shape=(1, 576, 16, 16) dtype=float32>, '420': <tf.Tensor 'clip_by_value_24:0' shape=(1, 576, 16, 16) dtype=float32>, '421': <tf.Tensor 'concat_37:0' shape=(1, 576, 16, 16) dtype=float32>, '422': <tf.Tensor 'batchnorm_37/add_1:0' shape=(1, 576, 16, 16) dtype=float32>, '423': <tf.Tensor 'clip_by_value_25:0' shape=(1, 576, 16, 16) dtype=float32>, '424': <tf.Tensor 'concat_38:0' shape=(1, 96, 16, 16) dtype=float32>, '425': <tf.Tensor 'batchnorm_38/add_1:0' shape=(1, 96, 16, 16) dtype=float32>, '426': <tf.Tensor 'Add_7:0' shape=(1, 96, 16, 16) dtype=float32>, '427': <tf.Tensor 'concat_39:0' shape=(1, 576, 16, 16) dtype=float32>, '428': <tf.Tensor 'batchnorm_39/add_1:0' shape=(1, 576, 16, 16) dtype=float32>, '429': <tf.Tensor 'clip_by_value_26:0' shape=(1, 576, 16, 16) dtype=float32>, '430': <tf.Tensor 'concat_40:0' shape=(1, 576, 8, 8) dtype=float32>, '431': <tf.Tensor 'batchnorm_40/add_1:0' shape=(1, 576, 8, 8) dtype=float32>, '432': <tf.Tensor 'clip_by_value_27:0' shape=(1, 576, 8, 8) dtype=float32>, '433': <tf.Tensor 'concat_41:0' shape=(1, 160, 8, 8) dtype=float32>, '434': <tf.Tensor 'batchnorm_41/add_1:0' shape=(1, 160, 8, 8) dtype=float32>, '435': <tf.Tensor 'concat_42:0' shape=(1, 960, 8, 8) dtype=float32>, '436': <tf.Tensor 'batchnorm_42/add_1:0' shape=(1, 960, 8, 8) dtype=float32>, '437': <tf.Tensor 'clip_by_value_28:0' shape=(1, 960, 8, 8) dtype=float32>, '438': <tf.Tensor 'concat_43:0' shape=(1, 960, 8, 8) dtype=float32>, '439': <tf.Tensor 'batchnorm_43/add_1:0' shape=(1, 960, 8, 8) dtype=float32>, '440': <tf.Tensor 'clip_by_value_29:0' shape=(1, 960, 8, 8) dtype=float32>, '441': <tf.Tensor 'concat_44:0' shape=(1, 160, 8, 8) dtype=float32>, '442': <tf.Tensor 'batchnorm_44/add_1:0' shape=(1, 160, 8, 8) dtype=float32>, '443': <tf.Tensor 'Add_8:0' shape=(1, 160, 8, 8) dtype=float32>, '444': <tf.Tensor 'concat_45:0' shape=(1, 960, 8, 8) dtype=float32>, '445': <tf.Tensor 'batchnorm_45/add_1:0' shape=(1, 960, 8, 8) dtype=float32>, '446': <tf.Tensor 'clip_by_value_30:0' shape=(1, 960, 8, 8) dtype=float32>, '447': <tf.Tensor 'concat_46:0' shape=(1, 960, 8, 8) dtype=float32>, '448': <tf.Tensor 'batchnorm_46/add_1:0' shape=(1, 960, 8, 8) dtype=float32>, '449': <tf.Tensor 'clip_by_value_31:0' shape=(1, 960, 8, 8) dtype=float32>, '450': <tf.Tensor 'concat_47:0' shape=(1, 160, 8, 8) dtype=float32>, '451': <tf.Tensor 'batchnorm_47/add_1:0' shape=(1, 160, 8, 8) dtype=float32>, '452': <tf.Tensor 'Add_9:0' shape=(1, 160, 8, 8) dtype=float32>, '453': <tf.Tensor 'concat_48:0' shape=(1, 960, 8, 8) dtype=float32>, '454': <tf.Tensor 'batchnorm_48/add_1:0' shape=(1, 960, 8, 8) dtype=float32>, '455': <tf.Tensor 'clip_by_value_32:0' shape=(1, 960, 8, 8) dtype=float32>, '456': <tf.Tensor 'concat_49:0' shape=(1, 960, 8, 8) dtype=float32>, '457': <tf.Tensor 'batchnorm_49/add_1:0' shape=(1, 960, 8, 8) dtype=float32>, '458': <tf.Tensor 'clip_by_value_33:0' shape=(1, 960, 8, 8) dtype=float32>, '459': <tf.Tensor 'concat_50:0' shape=(1, 320, 8, 8) dtype=float32>, '460': <tf.Tensor 'batchnorm_50/add_1:0' shape=(1, 320, 8, 8) dtype=float32>, '461': <tf.Tensor 'concat_51:0' shape=(1, 1280, 8, 8) dtype=float32>, '462': <tf.Tensor 'batchnorm_51/add_1:0' shape=(1, 1280, 8, 8) dtype=float32>, '463': <tf.Tensor 'clip_by_value_34:0' shape=(1, 1280, 8, 8) dtype=float32>, '464': <tf.Tensor 'Mean:0' shape=(1, 1280) dtype=float32>, 'output': <tf.Tensor 'add_10:0' shape=(1, 7) dtype=float32>}\n"
          ],
          "name": "stdout"
        }
      ]
    },
    {
      "cell_type": "code",
      "metadata": {
        "id": "g6vbyVTOii7O",
        "colab_type": "code",
        "colab": {}
      },
      "source": [
        "!pip uninstall tensorflow-gpu\n",
        "!pip install --upgrade tensorflow\n",
        "\n",
        "#!pip install tensorflow==1.7.1\n",
        "\n",
        "# install this TF v1.7.1 to avoid incompatibility issues in Unity with \n",
        "# TensorflowSharp v0.5\n",
        "# However, if we use a TF version lower than 1.13, \n",
        "# we will get the AttributeError:\n",
        "#\"AttributeError: module 'tensorflow.math' has no attribute\" or similar\n",
        "\n",
        "import tensorflow as tf\n",
        "\n",
        "print(tf.__version__)\n"
      ],
      "execution_count": 0,
      "outputs": []
    },
    {
      "cell_type": "code",
      "metadata": {
        "id": "l81mg9dsSc1B",
        "colab_type": "code",
        "colab": {}
      },
      "source": [
        "from tensorflow.compat.v1 import ConfigProto\n",
        "from tensorflow.compat.v1 import InteractiveSession\n",
        "\n",
        "\n",
        "config = tf.ConfigProto()\n",
        "config.gpu_options.allow_growth = True\n",
        "sess = tf.Session(config=config)"
      ],
      "execution_count": 0,
      "outputs": []
    },
    {
      "cell_type": "markdown",
      "metadata": {
        "id": "RgyQKBk7LbtC",
        "colab_type": "text"
      },
      "source": [
        "### Prepare a dummy image for inference"
      ]
    },
    {
      "cell_type": "code",
      "metadata": {
        "id": "cDF5XNUt0M_v",
        "colab_type": "code",
        "outputId": "f2f5117b-8654-43b3-c701-9dd0b93e172d",
        "colab": {
          "base_uri": "https://localhost:8080/",
          "height": 425
        }
      },
      "source": [
        "\n",
        "import numpy as np\n",
        "from IPython.display import display\n",
        "from PIL import Image\n",
        "\n",
        "path_to_img = base_path + 'fer2013/PrivateTest/2/PrivateTest_1162474.jpg'\n",
        "#path_to_img = base_path + 'fer2013/testface-happy.jpg'\n",
        "\n",
        "img = Image.open(path_to_img).resize((256, 256))\n",
        "\n",
        "new_img = np.broadcast_to(img, (1, 3, 256, 256)).copy()\n",
        "print(new_img.shape)\n",
        "\n",
        "display(new_img) # show the image\n",
        "\n",
        "img_ycbcr = img.convert(\"YCbCr\")\n",
        "img_y, img_cb, img_cr = img_ycbcr.split()\n",
        "\n",
        "\n",
        "#test_face = np.asarray(img_y, dtype=np.float32)[np.newaxis, np.newaxis, :, :]"
      ],
      "execution_count": 0,
      "outputs": [
        {
          "output_type": "stream",
          "text": [
            "(1, 3, 256, 256)\n"
          ],
          "name": "stdout"
        },
        {
          "output_type": "display_data",
          "data": {
            "text/plain": [
              "array([[[[ 18,  18,  18, ...,  88,  88,  88],\n",
              "         [ 18,  18,  18, ...,  88,  88,  88],\n",
              "         [ 18,  18,  18, ...,  88,  88,  88],\n",
              "         ...,\n",
              "         [ 16,  16,  16, ..., 202, 202, 202],\n",
              "         [ 16,  16,  16, ..., 202, 202, 202],\n",
              "         [ 16,  16,  16, ..., 202, 202, 202]],\n",
              "\n",
              "        [[ 18,  18,  18, ...,  88,  88,  88],\n",
              "         [ 18,  18,  18, ...,  88,  88,  88],\n",
              "         [ 18,  18,  18, ...,  88,  88,  88],\n",
              "         ...,\n",
              "         [ 16,  16,  16, ..., 202, 202, 202],\n",
              "         [ 16,  16,  16, ..., 202, 202, 202],\n",
              "         [ 16,  16,  16, ..., 202, 202, 202]],\n",
              "\n",
              "        [[ 18,  18,  18, ...,  88,  88,  88],\n",
              "         [ 18,  18,  18, ...,  88,  88,  88],\n",
              "         [ 18,  18,  18, ...,  88,  88,  88],\n",
              "         ...,\n",
              "         [ 16,  16,  16, ..., 202, 202, 202],\n",
              "         [ 16,  16,  16, ..., 202, 202, 202],\n",
              "         [ 16,  16,  16, ..., 202, 202, 202]]]], dtype=uint8)"
            ]
          },
          "metadata": {
            "tags": []
          }
        }
      ]
    },
    {
      "cell_type": "code",
      "metadata": {
        "id": "gZ-jhkq22EbK",
        "colab_type": "code",
        "outputId": "d1b64c79-99b8-4863-98cf-40528d0e556f",
        "colab": {
          "base_uri": "https://localhost:8080/",
          "height": 68
        }
      },
      "source": [
        "# run the network\n",
        "#dummy_face = torch.randn(1, 3, 224, 224)\n",
        "\n",
        "print(new_img.shape)\n",
        "\n",
        "test_face_run = tf_rep.run(new_img)._0\n",
        "\n",
        "print(test_face_run)"
      ],
      "execution_count": 0,
      "outputs": [
        {
          "output_type": "stream",
          "text": [
            "(1, 3, 256, 256)\n",
            "[[ 0.2374446  -3.5035207   0.17487492 -0.596612   -0.21957415  0.8263142\n",
            "  -0.06455269]]\n"
          ],
          "name": "stdout"
        }
      ]
    },
    {
      "cell_type": "markdown",
      "metadata": {
        "id": "lP7mYLlEjjFP",
        "colab_type": "text"
      },
      "source": [
        "### Tensorflow -.h5 or ONNX to -.pb"
      ]
    },
    {
      "cell_type": "code",
      "metadata": {
        "id": "s6Tr5MQZ8e1x",
        "colab_type": "code",
        "colab": {}
      },
      "source": [
        "#from tensorflow.python.saved_model import builder as pb_builder\n",
        "import tensorflow as tf\n",
        "\n",
        "base_path = './gdrive/My Drive/Colab Notebooks/Fer-dataset/' \n",
        "\n",
        "export_path_pb = base_path + \"ONNX/akash-bc2.pb\"\n"
      ],
      "execution_count": 0,
      "outputs": []
    },
    {
      "cell_type": "code",
      "metadata": {
        "id": "8nOaPqgB8h2B",
        "colab_type": "code",
        "colab": {}
      },
      "source": [
        "# load the model and save it as pb. \n",
        "# If the model is not in h5 format, convert it to h5 first.\n",
        "#pre_model = tf.keras.models.load_model('path/to/your/model.model')\n",
        "#pre_model.save('path/to/your/model.h5')\n",
        "\n",
        "\n",
        "# export the TensorflowRep object to a -.pb file which can be imported to unitiy.\n",
        "tf_rep.export_graph(export_path_pb) "
      ],
      "execution_count": 0,
      "outputs": []
    },
    {
      "cell_type": "markdown",
      "metadata": {
        "id": "5XM-vGhN0kKE",
        "colab_type": "text"
      },
      "source": [
        "### Inspect the -.pb file. Print out some node names"
      ]
    },
    {
      "cell_type": "code",
      "metadata": {
        "id": "EoUVpMUYKQ_g",
        "colab_type": "code",
        "outputId": "32a21121-aec3-4965-c78e-46e3e644576e",
        "colab": {
          "base_uri": "https://localhost:8080/",
          "height": 34
        }
      },
      "source": [
        "base_path = './gdrive/My Drive/Colab Notebooks/Fer-dataset/' \n",
        "pb_path = base_path + 'ONNX/akash-bc2.pb'\n",
        "#pb_path = base_path + 'ONNX/weights_best.pb'\n",
        "\n",
        "gf = tf.GraphDef()\n",
        "gf.ParseFromString(open(pb_path,'rb').read())"
      ],
      "execution_count": 9,
      "outputs": [
        {
          "output_type": "execute_result",
          "data": {
            "text/plain": [
              "10783695"
            ]
          },
          "metadata": {
            "tags": []
          },
          "execution_count": 9
        }
      ]
    },
    {
      "cell_type": "code",
      "metadata": {
        "id": "DMyRFx07RoP_",
        "colab_type": "code",
        "colab": {}
      },
      "source": [
        "[n.name + '=>' +  n.op for n in gf.node if n.op in ( 'Softmax','Mul', 'Placeholder', 'Reshape', 'Predictions', 'Add')]\n"
      ],
      "execution_count": 0,
      "outputs": []
    },
    {
      "cell_type": "markdown",
      "metadata": {
        "id": "9Np0pjXOMCdM",
        "colab_type": "text"
      },
      "source": [
        "### Doing inference in TensorFlow\n",
        "\n",
        "see if the resultant TensorFlow model can do inference as intended. Loading a TensorFlow model from a .pb file can be done by defining the following function."
      ]
    },
    {
      "cell_type": "code",
      "metadata": {
        "id": "DKoyNEqgL_yX",
        "colab_type": "code",
        "colab": {}
      },
      "source": [
        "def load_pb(path_to_pb):\n",
        "    with tf.gfile.GFile(path_to_pb, 'rb') as f:\n",
        "        graph_def = tf.GraphDef()\n",
        "        graph_def.ParseFromString(f.read())\n",
        "    with tf.Graph().as_default() as graph:\n",
        "        tf.import_graph_def(graph_def, name='')\n",
        "        return graph"
      ],
      "execution_count": 0,
      "outputs": []
    },
    {
      "cell_type": "code",
      "metadata": {
        "id": "ClP1l2coMzJP",
        "colab_type": "code",
        "outputId": "7a125066-9fc4-49fc-f9cc-f26f48abf007",
        "colab": {
          "base_uri": "https://localhost:8080/",
          "height": 51
        }
      },
      "source": [
        "tf_graph = load_pb(export_path_pb)\n",
        "sess = tf.Session(graph=tf_graph)\n",
        "\n",
        "input_tensor = tf_graph.get_tensor_by_name('input:0')\n",
        "output_tensor = tf_graph.get_tensor_by_name('add_10:0')\n",
        "\n",
        "output = sess.run(output_tensor, feed_dict={input_tensor: dummy_input})\n",
        "print(output)"
      ],
      "execution_count": 0,
      "outputs": [
        {
          "output_type": "stream",
          "text": [
            "[[ 0.43117827 -4.547673   -0.07455972 -0.43664512  1.002899   -0.88042116\n",
            "   0.58427036]]\n"
          ],
          "name": "stdout"
        }
      ]
    },
    {
      "cell_type": "markdown",
      "metadata": {
        "id": "gPtPYuiA7wtr",
        "colab_type": "text"
      },
      "source": [
        ""
      ]
    },
    {
      "cell_type": "markdown",
      "metadata": {
        "id": "upCa-Pla_Zi6",
        "colab_type": "text"
      },
      "source": [
        "# **From -.pb to -.tflite**"
      ]
    },
    {
      "cell_type": "code",
      "metadata": {
        "id": "vixW2ZRL_uaF",
        "colab_type": "code",
        "colab": {
          "base_uri": "https://localhost:8080/",
          "height": 34
        },
        "outputId": "93e40c28-e10c-4c69-cf9c-0fba00f9f648"
      },
      "source": [
        "\n",
        "pb_file = export_path_pb\n",
        "tflite_file = 'my_tflite.lite'\n",
        "pb_file"
      ],
      "execution_count": 10,
      "outputs": [
        {
          "output_type": "execute_result",
          "data": {
            "text/plain": [
              "'./gdrive/My Drive/Colab Notebooks/Fer-dataset/ONNX/akash-bc2.pb'"
            ]
          },
          "metadata": {
            "tags": []
          },
          "execution_count": 10
        }
      ]
    },
    {
      "cell_type": "code",
      "metadata": {
        "id": "IBTg3Je4_eCt",
        "colab_type": "code",
        "colab": {
          "base_uri": "https://localhost:8080/",
          "height": 463
        },
        "outputId": "c7e78e9b-123a-407c-977c-dd586424501e"
      },
      "source": [
        "\n",
        "converter = tf.lite.TFLiteConverter.from_frozen_graph(\n",
        "    pb_file, \n",
        "    ['input'], \n",
        "    ['Add']\n",
        ")\n",
        "\n",
        "tflite_model = converter.convert()\n",
        "\n",
        "open(tflite_file,'wb').write(tflite_model)\n",
        "\n"
      ],
      "execution_count": 13,
      "outputs": [
        {
          "output_type": "error",
          "ename": "ConverterError",
          "evalue": "ignored",
          "traceback": [
            "\u001b[0;31m---------------------------------------------------------------------------\u001b[0m",
            "\u001b[0;31mConverterError\u001b[0m                            Traceback (most recent call last)",
            "\u001b[0;32m<ipython-input-13-42b0d2128d5e>\u001b[0m in \u001b[0;36m<module>\u001b[0;34m()\u001b[0m\n\u001b[1;32m      6\u001b[0m )\n\u001b[1;32m      7\u001b[0m \u001b[0;34m\u001b[0m\u001b[0m\n\u001b[0;32m----> 8\u001b[0;31m \u001b[0mtflite_model\u001b[0m \u001b[0;34m=\u001b[0m \u001b[0mconverter\u001b[0m\u001b[0;34m.\u001b[0m\u001b[0mconvert\u001b[0m\u001b[0;34m(\u001b[0m\u001b[0;34m)\u001b[0m\u001b[0;34m\u001b[0m\u001b[0;34m\u001b[0m\u001b[0m\n\u001b[0m\u001b[1;32m      9\u001b[0m \u001b[0;34m\u001b[0m\u001b[0m\n\u001b[1;32m     10\u001b[0m \u001b[0mopen\u001b[0m\u001b[0;34m(\u001b[0m\u001b[0mtflite_file\u001b[0m\u001b[0;34m,\u001b[0m\u001b[0;34m'wb'\u001b[0m\u001b[0;34m)\u001b[0m\u001b[0;34m.\u001b[0m\u001b[0mwrite\u001b[0m\u001b[0;34m(\u001b[0m\u001b[0mtflite_model\u001b[0m\u001b[0;34m)\u001b[0m\u001b[0;34m\u001b[0m\u001b[0;34m\u001b[0m\u001b[0m\n",
            "\u001b[0;32m/usr/local/lib/python3.6/dist-packages/tensorflow/lite/python/lite.py\u001b[0m in \u001b[0;36mconvert\u001b[0;34m(self)\u001b[0m\n\u001b[1;32m    896\u001b[0m           \u001b[0minput_tensors\u001b[0m\u001b[0;34m=\u001b[0m\u001b[0mself\u001b[0m\u001b[0;34m.\u001b[0m\u001b[0m_input_tensors\u001b[0m\u001b[0;34m,\u001b[0m\u001b[0;34m\u001b[0m\u001b[0;34m\u001b[0m\u001b[0m\n\u001b[1;32m    897\u001b[0m           \u001b[0moutput_tensors\u001b[0m\u001b[0;34m=\u001b[0m\u001b[0mself\u001b[0m\u001b[0;34m.\u001b[0m\u001b[0m_output_tensors\u001b[0m\u001b[0;34m,\u001b[0m\u001b[0;34m\u001b[0m\u001b[0;34m\u001b[0m\u001b[0m\n\u001b[0;32m--> 898\u001b[0;31m           **converter_kwargs)\n\u001b[0m\u001b[1;32m    899\u001b[0m     \u001b[0;32melse\u001b[0m\u001b[0;34m:\u001b[0m\u001b[0;34m\u001b[0m\u001b[0;34m\u001b[0m\u001b[0m\n\u001b[1;32m    900\u001b[0m       result = _toco_convert_graph_def(\n",
            "\u001b[0;32m/usr/local/lib/python3.6/dist-packages/tensorflow/lite/python/convert.py\u001b[0m in \u001b[0;36mtoco_convert_impl\u001b[0;34m(input_data, input_tensors, output_tensors, *args, **kwargs)\u001b[0m\n\u001b[1;32m    402\u001b[0m   data = toco_convert_protos(model_flags.SerializeToString(),\n\u001b[1;32m    403\u001b[0m                              \u001b[0mtoco_flags\u001b[0m\u001b[0;34m.\u001b[0m\u001b[0mSerializeToString\u001b[0m\u001b[0;34m(\u001b[0m\u001b[0;34m)\u001b[0m\u001b[0;34m,\u001b[0m\u001b[0;34m\u001b[0m\u001b[0;34m\u001b[0m\u001b[0m\n\u001b[0;32m--> 404\u001b[0;31m                              input_data.SerializeToString())\n\u001b[0m\u001b[1;32m    405\u001b[0m   \u001b[0;32mreturn\u001b[0m \u001b[0mdata\u001b[0m\u001b[0;34m\u001b[0m\u001b[0;34m\u001b[0m\u001b[0m\n\u001b[1;32m    406\u001b[0m \u001b[0;34m\u001b[0m\u001b[0m\n",
            "\u001b[0;32m/usr/local/lib/python3.6/dist-packages/tensorflow/lite/python/convert.py\u001b[0m in \u001b[0;36mtoco_convert_protos\u001b[0;34m(model_flags_str, toco_flags_str, input_data_str)\u001b[0m\n\u001b[1;32m    170\u001b[0m       \u001b[0mstderr\u001b[0m \u001b[0;34m=\u001b[0m \u001b[0m_try_convert_to_unicode\u001b[0m\u001b[0;34m(\u001b[0m\u001b[0mstderr\u001b[0m\u001b[0;34m)\u001b[0m\u001b[0;34m\u001b[0m\u001b[0;34m\u001b[0m\u001b[0m\n\u001b[1;32m    171\u001b[0m       raise ConverterError(\n\u001b[0;32m--> 172\u001b[0;31m           \"TOCO failed. See console for info.\\n%s\\n%s\\n\" % (stdout, stderr))\n\u001b[0m\u001b[1;32m    173\u001b[0m   \u001b[0;32mfinally\u001b[0m\u001b[0;34m:\u001b[0m\u001b[0;34m\u001b[0m\u001b[0;34m\u001b[0m\u001b[0m\n\u001b[1;32m    174\u001b[0m     \u001b[0;31m# Must manually cleanup files.\u001b[0m\u001b[0;34m\u001b[0m\u001b[0;34m\u001b[0m\u001b[0;34m\u001b[0m\u001b[0m\n",
            "\u001b[0;31mConverterError\u001b[0m: TOCO failed. See console for info.\n2019-09-16 17:25:43.380838: F tensorflow/lite/toco/import_tensorflow.cc:2619] Check failed: status.ok() Unexpected value for attribute 'data_format'. Expected 'NHWC'\nAborted (core dumped)\n\n\n"
          ]
        }
      ]
    }
  ]
}